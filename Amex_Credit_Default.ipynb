{
  "nbformat": 4,
  "nbformat_minor": 0,
  "metadata": {
    "colab": {
      "name": "Amex-Credit-Default.ipynb",
      "provenance": [],
      "collapsed_sections": [],
      "authorship_tag": "ABX9TyPLVnYhWXLmzx17KwS8DBbY",
      "include_colab_link": true
    },
    "kernelspec": {
      "name": "python3",
      "display_name": "Python 3"
    },
    "language_info": {
      "name": "python"
    }
  },
  "cells": [
    {
      "cell_type": "markdown",
      "metadata": {
        "id": "view-in-github",
        "colab_type": "text"
      },
      "source": [
        "<a href=\"https://colab.research.google.com/github/nickhitt/AMEX-fraud/blob/master/Amex_Credit_Default.ipynb\" target=\"_parent\"><img src=\"https://colab.research.google.com/assets/colab-badge.svg\" alt=\"Open In Colab\"/></a>"
      ]
    },
    {
      "cell_type": "markdown",
      "source": [
        "## American Express Fraud Detection Competition\n",
        "\n",
        "Credit default prediction is central to managing risk in a consumer lending business. Credit default prediction allows lenders to optimize lending decisions, which leads to a better customer experience and sound business economics.\n",
        "\n",
        "In this competition, I apply my machine learning skills to predict credit default for American Express. Specifically, I leverage an industrial scale data set to build a machine learning model that challenges the current model in production. Training, validation, and testing datasets include time-series behavioral data and anonymized customer profile information. \n",
        "\n",
        "This notebook is organised according to the following sections.\n",
        "\n",
        "1. Loading the data\n",
        "2. Exploratory Data Analysis and Pre-Processing\n",
        "3. Feature Engineering\n",
        "4. Train-Test Split\n",
        "5. Model Selection\n",
        "6. Model Tuning\n",
        "7. Predictive Output\n",
        "\n"
      ],
      "metadata": {
        "id": "NPC4i70SGijd"
      }
    },
    {
      "cell_type": "markdown",
      "source": [
        "## Data Loading"
      ],
      "metadata": {
        "id": "bXgiLeH2GlMH"
      }
    },
    {
      "cell_type": "code",
      "execution_count": null,
      "metadata": {
        "id": "w-r0dZVKGhQJ"
      },
      "outputs": [],
      "source": [
        ""
      ]
    }
  ]
}